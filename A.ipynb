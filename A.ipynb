{
 "cells": [
  {
   "cell_type": "code",
   "execution_count": 1,
   "metadata": {},
   "outputs": [],
   "source": [
    "import pandas as pd\n",
    "import numpy as np\n",
    "from scipy.stats import spearmanr,chi2_contingency\n",
    "import matplotlib.pyplot as plt\n",
    "import tools"
   ]
  },
  {
   "cell_type": "code",
   "execution_count": 2,
   "metadata": {},
   "outputs": [],
   "source": [
    "df=pd.read_csv('train.csv')"
   ]
  },
  {
   "cell_type": "code",
   "execution_count": 3,
   "metadata": {},
   "outputs": [],
   "source": [
    "X=df.treatment\n",
    "Y=df.outcome\n",
    "S=set()\n",
    "col_set={i for i in df.columns if 'V' in i}"
   ]
  },
  {
   "cell_type": "code",
   "execution_count": 4,
   "metadata": {},
   "outputs": [],
   "source": [
    "for i in df.columns:\n",
    "    s=df[i]\n",
    "    if len(s.unique())<10:\n",
    "        #处理离散变量\n",
    "        s=np.array(pd.get_dummies(s)).argmax(-1)\n",
    "        df[i]=s\n",
    "    else:\n",
    "        #处理连续变量\n",
    "        df[i]=df[i].fillna(df[i].mean())"
   ]
  },
  {
   "cell_type": "code",
   "execution_count": 5,
   "metadata": {},
   "outputs": [
    {
     "name": "stderr",
     "output_type": "stream",
     "text": [
      "/home/oybb/anaconda3/envs/torch/lib/python3.7/site-packages/scipy/stats/stats.py:4484: SpearmanRConstantInputWarning: An input array is constant; the correlation coefficient is not defined.\n",
      "  warnings.warn(SpearmanRConstantInputWarning())\n"
     ]
    },
    {
     "name": "stdout",
     "output_type": "stream",
     "text": [
      "V_36 Y 0.07045666946412761 4.661666090848561e-41\n",
      "V_8 Y 0.13224317988172335 7.370815294795673e-141\n",
      "V_28 Y -0.034471038805503375 5.4097952629401624e-11\n",
      "V_31 Y 0.22687592431776285 0.0\n",
      "V_29 Y -0.05924019675958815 1.6688663786725704e-29\n",
      "V_10 Y -0.0908128288531666 3.910803326695209e-67\n",
      "V_6 Y -0.09979195694517497 9.546884520387867e-81\n",
      "V_14 Y -0.20517894758604227 0.0\n",
      "V_37 Y -0.25132970296789325 0.0\n",
      "V_15 Y 0.37477123768005083 0.0\n",
      "V_7 Y -0.281769726167632 0.0\n",
      "V_21 Y -0.04147341172671237 2.957893009953722e-15\n",
      "V_5 Y -0.09876740782682815 3.969645277413074e-79\n",
      "V_1 Y 0.11629697297448234 3.596237913409036e-109\n",
      "V_2 Y -0.0702837617561886 7.273878052260199e-41\n",
      "V_19 Y 0.167631799705178 2.7026127433060447e-226\n",
      "V_16 Y -0.11270689774546816 1.3043175767652795e-102\n",
      "V_33 Y 0.1429899115716578 1.3880019097458658e-164\n",
      "V_25 Y -0.26553132849998906 0.0\n",
      "V_23 Y 0.04738125029039025 1.912804698576465e-19\n",
      "V_9 Y -0.2653332938763218 0.0\n",
      "V_30 Y -0.9907080947821001 0.0\n",
      "V_26 Y -0.053740953813899275 1.4513144130582155e-24\n",
      "V_32 Y 0.9863653596180796 0.0\n",
      "V_35 Y 0.10844882910337593 4.19975853707063e-95\n",
      "V_39 Y 0.25196907776058813 0.0\n",
      "V_18 Y -0.10705544442917478 1.0376289614638019e-92\n",
      "V_24 Y -0.10265048361074977 2.3628535864083337e-85\n",
      "V_12 X -0.043168095737743606 2.1132658319033013e-16\n",
      "V_13 X 0.038160721240904104 3.820773173501052e-13\n",
      "V_3 X 0.036597855491222436 3.3038056268240077e-12\n",
      "V_22 X 0.034561432427133686 4.819475331975629e-11\n",
      "V_11 X -0.03749407305940789 9.691838453256572e-13\n"
     ]
    }
   ],
   "source": [
    "#根据相关性选取不为A的变量\n",
    "for col in col_set-S:\n",
    "    s=df[col]\n",
    "    c,p=spearmanr(s,Y)\n",
    "    if p<0.00001:\n",
    "        print(col,'Y',c,p)\n",
    "        S.add(col)\n",
    "for col in col_set-S:\n",
    "    s=df[col]\n",
    "    c,p=spearmanr(s,X)\n",
    "    if p<0.00001:\n",
    "        print(col,'X',c,p)\n",
    "        S.add(col)"
   ]
  },
  {
   "cell_type": "code",
   "execution_count": 6,
   "metadata": {},
   "outputs": [
    {
     "name": "stdout",
     "output_type": "stream",
     "text": [
      "V_0\n",
      "V_34\n",
      "V_4\n"
     ]
    }
   ],
   "source": [
    "#根据相关性进一步选取不为A的变量\n",
    "for i in col_set-S:\n",
    "    a=df[i]\n",
    "    lis=[spearmanr(a,df[col])[1] for col in S]\n",
    "    if min(lis)<1e-5:\n",
    "        print(i)\n",
    "        S.add(i)"
   ]
  },
  {
   "cell_type": "code",
   "execution_count": 7,
   "metadata": {
    "scrolled": true
   },
   "outputs": [
    {
     "data": {
      "text/plain": [
       "{'V_17', 'V_20', 'V_27', 'V_38'}"
      ]
     },
     "execution_count": 7,
     "metadata": {},
     "output_type": "execute_result"
    }
   ],
   "source": [
    "#这几个没有明显证据证明不属于A\n",
    "col_set-S"
   ]
  },
  {
   "cell_type": "code",
   "execution_count": 8,
   "metadata": {},
   "outputs": [],
   "source": [
    "l=list()\n",
    "for i in S:\n",
    "    if len(df[i].unique())<10:\n",
    "        l.append(i)"
   ]
  },
  {
   "cell_type": "code",
   "execution_count": 9,
   "metadata": {},
   "outputs": [
    {
     "name": "stdout",
     "output_type": "stream",
     "text": [
      "V_8 V_8\n",
      "V_10 V_10\n",
      "V_14 V_14\n",
      "V_15 V_15\n",
      "V_16 V_15\n",
      "V_16 V_16\n",
      "V_12 V_12\n",
      "V_16 V_9\n",
      "V_26 V_26\n",
      "V_16 V_35\n",
      "V_39 V_39\n",
      "V_15 V_22\n",
      "V_16 V_22\n",
      "V_5 V_5\n"
     ]
    }
   ],
   "source": [
    "#看看能不能恰好运气好找出d分离，恰好测出来了，V_16大概率属于W\n",
    "L=list()\n",
    "treatment=2\n",
    "for col in S:\n",
    "    a=df[col][df.treatment==treatment]\n",
    "    y=Y[df.treatment==treatment]\n",
    "    if spearmanr(a,y)[1]<0.001:\n",
    "        for w_col in l:\n",
    "            w=df[w_col][df.treatment==treatment]\n",
    "            cond=False\n",
    "            for value in w.unique():\n",
    "                cond=cond or spearmanr(a[w==value],y[w==value])[1]<0.05\n",
    "            if not cond:\n",
    "                L.append((w_col,col))\n",
    "                print(w_col,col)"
   ]
  }
 ],
 "metadata": {
  "kernelspec": {
   "display_name": "Python [conda env:torch]",
   "language": "python",
   "name": "conda-env-torch-py"
  },
  "language_info": {
   "codemirror_mode": {
    "name": "ipython",
    "version": 3
   },
   "file_extension": ".py",
   "mimetype": "text/x-python",
   "name": "python",
   "nbconvert_exporter": "python",
   "pygments_lexer": "ipython3",
   "version": "3.7.13"
  }
 },
 "nbformat": 4,
 "nbformat_minor": 4
}
